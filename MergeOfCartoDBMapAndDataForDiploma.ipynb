{
 "cells": [
  {
   "cell_type": "code",
   "execution_count": 1,
   "metadata": {
    "collapsed": true
   },
   "outputs": [],
   "source": [
    "import pandas as pd\n",
    "%matplotlib inline"
   ]
  },
  {
   "cell_type": "code",
   "execution_count": 87,
   "metadata": {
    "collapsed": false
   },
   "outputs": [
    {
     "data": {
      "text/html": [
       "<div>\n",
       "<table border=\"1\" class=\"dataframe\">\n",
       "  <thead>\n",
       "    <tr style=\"text-align: right;\">\n",
       "      <th></th>\n",
       "      <th>0</th>\n",
       "      <th>1</th>\n",
       "    </tr>\n",
       "  </thead>\n",
       "  <tbody>\n",
       "    <tr>\n",
       "      <th>0</th>\n",
       "      <td>2014-12-14 03:00:00</td>\n",
       "      <td>0</td>\n",
       "    </tr>\n",
       "    <tr>\n",
       "      <th>1</th>\n",
       "      <td>2014-12-14 03:00:00</td>\n",
       "      <td>0</td>\n",
       "    </tr>\n",
       "    <tr>\n",
       "      <th>2</th>\n",
       "      <td>2014-12-14 04:00:00</td>\n",
       "      <td>0</td>\n",
       "    </tr>\n",
       "    <tr>\n",
       "      <th>3</th>\n",
       "      <td>2014-12-14 04:00:00</td>\n",
       "      <td>0</td>\n",
       "    </tr>\n",
       "    <tr>\n",
       "      <th>4</th>\n",
       "      <td>2014-12-14 05:00:00</td>\n",
       "      <td>0</td>\n",
       "    </tr>\n",
       "  </tbody>\n",
       "</table>\n",
       "</div>"
      ],
      "text/plain": [
       "                    0  1\n",
       "0 2014-12-14 03:00:00  0\n",
       "1 2014-12-14 03:00:00  0\n",
       "2 2014-12-14 04:00:00  0\n",
       "3 2014-12-14 04:00:00  0\n",
       "4 2014-12-14 05:00:00  0"
      ]
     },
     "execution_count": 87,
     "metadata": {},
     "output_type": "execute_result"
    }
   ],
   "source": [
    "df  = pd.read_csv(\"./sample.csv\",header=None,parse_dates=[0])\n",
    "df.head()"
   ]
  },
  {
   "cell_type": "code",
   "execution_count": 88,
   "metadata": {
    "collapsed": false
   },
   "outputs": [
    {
     "data": {
      "text/plain": [
       "0    datetime64[ns]\n",
       "1             int64\n",
       "dtype: object"
      ]
     },
     "execution_count": 88,
     "metadata": {},
     "output_type": "execute_result"
    }
   ],
   "source": [
    "df.dtypes"
   ]
  },
  {
   "cell_type": "code",
   "execution_count": 89,
   "metadata": {
    "collapsed": false
   },
   "outputs": [
    {
     "data": {
      "text/html": [
       "<div>\n",
       "<table border=\"1\" class=\"dataframe\">\n",
       "  <thead>\n",
       "    <tr style=\"text-align: right;\">\n",
       "      <th></th>\n",
       "      <th>1</th>\n",
       "    </tr>\n",
       "    <tr>\n",
       "      <th>0</th>\n",
       "      <th></th>\n",
       "    </tr>\n",
       "  </thead>\n",
       "  <tbody>\n",
       "    <tr>\n",
       "      <th>2014-12-14 03:00:00</th>\n",
       "      <td>0</td>\n",
       "    </tr>\n",
       "    <tr>\n",
       "      <th>2014-12-14 03:00:00</th>\n",
       "      <td>0</td>\n",
       "    </tr>\n",
       "    <tr>\n",
       "      <th>2014-12-14 04:00:00</th>\n",
       "      <td>0</td>\n",
       "    </tr>\n",
       "    <tr>\n",
       "      <th>2014-12-14 04:00:00</th>\n",
       "      <td>0</td>\n",
       "    </tr>\n",
       "    <tr>\n",
       "      <th>2014-12-14 05:00:00</th>\n",
       "      <td>0</td>\n",
       "    </tr>\n",
       "  </tbody>\n",
       "</table>\n",
       "</div>"
      ],
      "text/plain": [
       "                     1\n",
       "0                     \n",
       "2014-12-14 03:00:00  0\n",
       "2014-12-14 03:00:00  0\n",
       "2014-12-14 04:00:00  0\n",
       "2014-12-14 04:00:00  0\n",
       "2014-12-14 05:00:00  0"
      ]
     },
     "execution_count": 89,
     "metadata": {},
     "output_type": "execute_result"
    }
   ],
   "source": [
    "df.set_index(0,inplace=True)\n",
    "df.head()"
   ]
  },
  {
   "cell_type": "code",
   "execution_count": 90,
   "metadata": {
    "collapsed": false
   },
   "outputs": [
    {
     "data": {
      "text/plain": [
       "<matplotlib.axes.AxesSubplot at 0x7f0046493850>"
      ]
     },
     "execution_count": 90,
     "metadata": {},
     "output_type": "execute_result"
    },
    {
     "data": {
      "image/png": "[encoded data removed]",
      "text/plain": [
       "<matplotlib.figure.Figure at 0x7f0045bf7d90>"
      ]
     },
     "metadata": {},
     "output_type": "display_data"
    }
   ],
   "source": [
    "df.plot()"
   ]
  },
  {
   "cell_type": "code",
   "execution_count": 91,
   "metadata": {
    "collapsed": true
   },
   "outputs": [],
   "source": [
    "df['diff'] = df.diff()"
   ]
  },
  {
   "cell_type": "code",
   "execution_count": 52,
   "metadata": {
    "collapsed": false
   },
   "outputs": [
    {
     "data": {
      "text/plain": [
       "str"
      ]
     },
     "execution_count": 52,
     "metadata": {},
     "output_type": "execute_result"
    }
   ],
   "source": [
    "x = \"sdsa\"\n",
    "type(x)"
   ]
  },
  {
   "cell_type": "code",
   "execution_count": 100,
   "metadata": {
    "collapsed": false
   },
   "outputs": [],
   "source": []
  },
  {
   "cell_type": "code",
   "execution_count": 122,
   "metadata": {
    "collapsed": false
   },
   "outputs": [
    {
     "name": "stdout",
     "output_type": "stream",
     "text": [
      "             state id1  id2           county id3\n",
      "merged_index                                    \n",
      "00101           AL  01  001   Autauga County  H1\n",
      "00104           AZ  04  001    Apache County  H1\n",
      "00105           AR  05  001  Arkansas County  H1\n",
      "00106           CA  06  001   Alameda County  H1\n",
      "00108           CO  08  001     Adams County  H1\n",
      "(3235, 5)\n"
     ]
    }
   ],
   "source": [
    "county = pd.read_csv(\"../national_county.csv\",header=None,names=[\"state\",\"id1\",\"id2\",\"county\",\"id3\"] ,dtype={\"state\":str,\"id1\":str,\"id2\":str,\"county\":str,\"id3\":str})\n",
    "county.columns=[\"state\",\"id1\",\"id2\",\"county\",\"id3\"]\n",
    "# county.apply(lambda x : str(x[\"id1\"]))\n",
    "county[\"merged_index\"] = county.id2 + county.id1\n",
    "county.head()\n",
    "# county.shape\n",
    "county = county.groupby(\"merged_index\").first()\n",
    "print county.head()\n",
    "print county.shape"
   ]
  },
  {
   "cell_type": "code",
   "execution_count": 121,
   "metadata": {
    "collapsed": false
   },
   "outputs": [],
   "source": []
  },
  {
   "cell_type": "code",
   "execution_count": 123,
   "metadata": {
    "collapsed": false
   },
   "outputs": [
    {
     "data": {
      "text/plain": [
       "(3234, 9)"
      ]
     },
     "execution_count": 123,
     "metadata": {},
     "output_type": "execute_result"
    }
   ],
   "source": [
    "df = pd.read_csv(\"/home/sri/Downloads/cb_2013_us_county_500k.csv\",dtype={\"countyfp\":str,\"statefp\":str})\n",
    "df[\"merged_index\"] = df.countyfp+df.statefp\n",
    "df = df.groupby(\"merged_index\").first()\n",
    "df.head()\n",
    "df.shape"
   ]
  },
  {
   "cell_type": "code",
   "execution_count": 119,
   "metadata": {
    "collapsed": false
   },
   "outputs": [
    {
     "data": {
      "text/plain": [
       "3234"
      ]
     },
     "execution_count": 119,
     "metadata": {},
     "output_type": "execute_result"
    }
   ],
   "source": [
    "len(df.merged_index.unique())"
   ]
  },
  {
   "cell_type": "code",
   "execution_count": 127,
   "metadata": {
    "collapsed": false
   },
   "outputs": [
    {
     "name": "stdout",
     "output_type": "stream",
     "text": [
      "(3234, 14)\n"
     ]
    },
    {
     "data": {
      "text/html": [
       "<div>\n",
       "<table border=\"1\" class=\"dataframe\">\n",
       "  <thead>\n",
       "    <tr style=\"text-align: right;\">\n",
       "      <th></th>\n",
       "      <th>cartodb_id</th>\n",
       "      <th>the_geom</th>\n",
       "      <th>geoid</th>\n",
       "      <th>affgeoid</th>\n",
       "      <th>cd113fp</th>\n",
       "      <th>countyfp</th>\n",
       "      <th>statefp</th>\n",
       "      <th>updated_at</th>\n",
       "      <th>created_at</th>\n",
       "      <th>state</th>\n",
       "      <th>id1</th>\n",
       "      <th>id2</th>\n",
       "      <th>county</th>\n",
       "      <th>id3</th>\n",
       "    </tr>\n",
       "    <tr>\n",
       "      <th>merged_index</th>\n",
       "      <th></th>\n",
       "      <th></th>\n",
       "      <th></th>\n",
       "      <th></th>\n",
       "      <th></th>\n",
       "      <th></th>\n",
       "      <th></th>\n",
       "      <th></th>\n",
       "      <th></th>\n",
       "      <th></th>\n",
       "      <th></th>\n",
       "      <th></th>\n",
       "      <th></th>\n",
       "      <th></th>\n",
       "    </tr>\n",
       "  </thead>\n",
       "  <tbody>\n",
       "    <tr>\n",
       "      <th>00101</th>\n",
       "      <td>1250</td>\n",
       "      <td>0106000020E61000000100000001030000000100000079...</td>\n",
       "      <td>102001</td>\n",
       "      <td>5101300US0102001</td>\n",
       "      <td>2</td>\n",
       "      <td>001</td>\n",
       "      <td>01</td>\n",
       "      <td>2015-02-24</td>\n",
       "      <td>2015-02-24</td>\n",
       "      <td>AL</td>\n",
       "      <td>01</td>\n",
       "      <td>001</td>\n",
       "      <td>Autauga County</td>\n",
       "      <td>H1</td>\n",
       "    </tr>\n",
       "    <tr>\n",
       "      <th>00104</th>\n",
       "      <td>1243</td>\n",
       "      <td>0106000020E610000001000000010300000001000000C1...</td>\n",
       "      <td>401001</td>\n",
       "      <td>5101300US0401001</td>\n",
       "      <td>1</td>\n",
       "      <td>001</td>\n",
       "      <td>04</td>\n",
       "      <td>2015-02-24</td>\n",
       "      <td>2015-02-24</td>\n",
       "      <td>AZ</td>\n",
       "      <td>04</td>\n",
       "      <td>001</td>\n",
       "      <td>Apache County</td>\n",
       "      <td>H1</td>\n",
       "    </tr>\n",
       "    <tr>\n",
       "      <th>00105</th>\n",
       "      <td>481</td>\n",
       "      <td>0106000020E610000001000000010300000001000000EA...</td>\n",
       "      <td>501001</td>\n",
       "      <td>5101300US0501001</td>\n",
       "      <td>1</td>\n",
       "      <td>001</td>\n",
       "      <td>05</td>\n",
       "      <td>2015-02-24</td>\n",
       "      <td>2015-02-24</td>\n",
       "      <td>AR</td>\n",
       "      <td>05</td>\n",
       "      <td>001</td>\n",
       "      <td>Arkansas County</td>\n",
       "      <td>H1</td>\n",
       "    </tr>\n",
       "    <tr>\n",
       "      <th>00106</th>\n",
       "      <td>513</td>\n",
       "      <td>0106000020E61000000100000001030000000100000047...</td>\n",
       "      <td>613001</td>\n",
       "      <td>5101300US0613001</td>\n",
       "      <td>13</td>\n",
       "      <td>001</td>\n",
       "      <td>06</td>\n",
       "      <td>2015-02-24</td>\n",
       "      <td>2015-02-24</td>\n",
       "      <td>CA</td>\n",
       "      <td>06</td>\n",
       "      <td>001</td>\n",
       "      <td>Alameda County</td>\n",
       "      <td>H1</td>\n",
       "    </tr>\n",
       "    <tr>\n",
       "      <th>00108</th>\n",
       "      <td>2638</td>\n",
       "      <td>0106000020E61000000200000001030000000100000062...</td>\n",
       "      <td>804001</td>\n",
       "      <td>5101300US0804001</td>\n",
       "      <td>4</td>\n",
       "      <td>001</td>\n",
       "      <td>08</td>\n",
       "      <td>2015-02-24</td>\n",
       "      <td>2015-02-24</td>\n",
       "      <td>CO</td>\n",
       "      <td>08</td>\n",
       "      <td>001</td>\n",
       "      <td>Adams County</td>\n",
       "      <td>H1</td>\n",
       "    </tr>\n",
       "  </tbody>\n",
       "</table>\n",
       "</div>"
      ],
      "text/plain": [
       "              cartodb_id                                           the_geom  \\\n",
       "merged_index                                                                  \n",
       "00101               1250  0106000020E61000000100000001030000000100000079...   \n",
       "00104               1243  0106000020E610000001000000010300000001000000C1...   \n",
       "00105                481  0106000020E610000001000000010300000001000000EA...   \n",
       "00106                513  0106000020E61000000100000001030000000100000047...   \n",
       "00108               2638  0106000020E61000000200000001030000000100000062...   \n",
       "\n",
       "               geoid          affgeoid  cd113fp countyfp statefp  updated_at  \\\n",
       "merged_index                                                                   \n",
       "00101         102001  5101300US0102001        2      001      01  2015-02-24   \n",
       "00104         401001  5101300US0401001        1      001      04  2015-02-24   \n",
       "00105         501001  5101300US0501001        1      001      05  2015-02-24   \n",
       "00106         613001  5101300US0613001       13      001      06  2015-02-24   \n",
       "00108         804001  5101300US0804001        4      001      08  2015-02-24   \n",
       "\n",
       "              created_at state id1  id2           county id3  \n",
       "merged_index                                                  \n",
       "00101         2015-02-24    AL  01  001   Autauga County  H1  \n",
       "00104         2015-02-24    AZ  04  001    Apache County  H1  \n",
       "00105         2015-02-24    AR  05  001  Arkansas County  H1  \n",
       "00106         2015-02-24    CA  06  001   Alameda County  H1  \n",
       "00108         2015-02-24    CO  08  001     Adams County  H1  "
      ]
     },
     "execution_count": 127,
     "metadata": {},
     "output_type": "execute_result"
    }
   ],
   "source": [
    "df.groupby([\"statefp\",\"countyfp\"]).count(\"geoid\")['geoid'].head()\n",
    "geo_county_map = df.merge(county,how='inner',right_index=True,left_index=True)\n",
    "print geo_county_map.shape\n",
    "geo_county_map.head()\n"
   ]
  },
  {
   "cell_type": "code",
   "execution_count": 128,
   "metadata": {
    "collapsed": false
   },
   "outputs": [],
   "source": [
    "geo_county_map[\"county_state_map\"] =  geo_county_map.county + ', ' + geo_county_map.state"
   ]
  },
  {
   "cell_type": "code",
   "execution_count": 132,
   "metadata": {
    "collapsed": false
   },
   "outputs": [
    {
     "data": {
      "text/plain": [
       "(9802, 459)"
      ]
     },
     "execution_count": 132,
     "metadata": {},
     "output_type": "execute_result"
    }
   ],
   "source": [
    "data = pd.read_csv(\"../final_data_set.csv\")\n",
    "data.shape"
   ]
  },
  {
   "cell_type": "code",
   "execution_count": 130,
   "metadata": {
    "collapsed": false
   },
   "outputs": [],
   "source": [
    "merged_data_geo = data.merge(geo_county_map,how='inner',left_on='County',right_on='county_state_map')\n"
   ]
  },
  {
   "cell_type": "code",
   "execution_count": 136,
   "metadata": {
    "collapsed": false
   },
   "outputs": [
    {
     "data": {
      "text/plain": [
       "u'/home/sri/Downloads/Data for Diploams_Unmerged Data'"
      ]
     },
     "execution_count": 136,
     "metadata": {},
     "output_type": "execute_result"
    }
   ],
   "source": [
    "pwd"
   ]
  },
  {
   "cell_type": "code",
   "execution_count": 131,
   "metadata": {
    "collapsed": false
   },
   "outputs": [
    {
     "data": {
      "text/plain": [
       "(9726, 474)"
      ]
     },
     "execution_count": 131,
     "metadata": {},
     "output_type": "execute_result"
    }
   ],
   "source": [
    "merged_data_geo.shape\n",
    "merged_data.col"
   ]
  },
  {
   "cell_type": "code",
   "execution_count": 133,
   "metadata": {
    "collapsed": false
   },
   "outputs": [
    {
     "data": {
      "text/html": [
       "<div>\n",
       "<table border=\"1\" class=\"dataframe\">\n",
       "  <thead>\n",
       "    <tr style=\"text-align: right;\">\n",
       "      <th></th>\n",
       "      <th>Unnamed: 0</th>\n",
       "      <th>leaid11</th>\n",
       "      <th>STNAM</th>\n",
       "      <th>FIPST</th>\n",
       "      <th>leanm11</th>\n",
       "      <th>ALL_COHORT_1112</th>\n",
       "      <th>ALL_RATE_1112</th>\n",
       "      <th>MAM_COHORT_1112</th>\n",
       "      <th>MAM_RATE_1112</th>\n",
       "      <th>MAS_COHORT_1112</th>\n",
       "      <th>...</th>\n",
       "      <th>countyfp</th>\n",
       "      <th>statefp</th>\n",
       "      <th>updated_at</th>\n",
       "      <th>created_at</th>\n",
       "      <th>state</th>\n",
       "      <th>id1</th>\n",
       "      <th>id2</th>\n",
       "      <th>county</th>\n",
       "      <th>id3</th>\n",
       "      <th>county_state_map</th>\n",
       "    </tr>\n",
       "  </thead>\n",
       "  <tbody>\n",
       "    <tr>\n",
       "      <th>0</th>\n",
       "      <td>0</td>\n",
       "      <td>100005</td>\n",
       "      <td>ALABAMA</td>\n",
       "      <td>1</td>\n",
       "      <td>Albertville City</td>\n",
       "      <td>268</td>\n",
       "      <td>83</td>\n",
       "      <td>0</td>\n",
       "      <td>NaN</td>\n",
       "      <td>0</td>\n",
       "      <td>...</td>\n",
       "      <td>095</td>\n",
       "      <td>01</td>\n",
       "      <td>2015-02-24</td>\n",
       "      <td>2015-02-24</td>\n",
       "      <td>AL</td>\n",
       "      <td>01</td>\n",
       "      <td>095</td>\n",
       "      <td>Marshall County</td>\n",
       "      <td>H1</td>\n",
       "      <td>Marshall County, AL</td>\n",
       "    </tr>\n",
       "    <tr>\n",
       "      <th>1</th>\n",
       "      <td>1</td>\n",
       "      <td>100006</td>\n",
       "      <td>ALABAMA</td>\n",
       "      <td>1</td>\n",
       "      <td>Marshall County</td>\n",
       "      <td>424</td>\n",
       "      <td>79</td>\n",
       "      <td>2</td>\n",
       "      <td>PS</td>\n",
       "      <td>1</td>\n",
       "      <td>...</td>\n",
       "      <td>095</td>\n",
       "      <td>01</td>\n",
       "      <td>2015-02-24</td>\n",
       "      <td>2015-02-24</td>\n",
       "      <td>AL</td>\n",
       "      <td>01</td>\n",
       "      <td>095</td>\n",
       "      <td>Marshall County</td>\n",
       "      <td>H1</td>\n",
       "      <td>Marshall County, AL</td>\n",
       "    </tr>\n",
       "    <tr>\n",
       "      <th>2</th>\n",
       "      <td>5</td>\n",
       "      <td>100012</td>\n",
       "      <td>ALABAMA</td>\n",
       "      <td>1</td>\n",
       "      <td>Boaz City</td>\n",
       "      <td>155</td>\n",
       "      <td>90-94</td>\n",
       "      <td>0</td>\n",
       "      <td>NaN</td>\n",
       "      <td>3</td>\n",
       "      <td>...</td>\n",
       "      <td>095</td>\n",
       "      <td>01</td>\n",
       "      <td>2015-02-24</td>\n",
       "      <td>2015-02-24</td>\n",
       "      <td>AL</td>\n",
       "      <td>01</td>\n",
       "      <td>095</td>\n",
       "      <td>Marshall County</td>\n",
       "      <td>H1</td>\n",
       "      <td>Marshall County, AL</td>\n",
       "    </tr>\n",
       "    <tr>\n",
       "      <th>3</th>\n",
       "      <td>10</td>\n",
       "      <td>100100</td>\n",
       "      <td>ALABAMA</td>\n",
       "      <td>1</td>\n",
       "      <td>Arab City</td>\n",
       "      <td>190</td>\n",
       "      <td>90-94</td>\n",
       "      <td>2</td>\n",
       "      <td>PS</td>\n",
       "      <td>3</td>\n",
       "      <td>...</td>\n",
       "      <td>095</td>\n",
       "      <td>01</td>\n",
       "      <td>2015-02-24</td>\n",
       "      <td>2015-02-24</td>\n",
       "      <td>AL</td>\n",
       "      <td>01</td>\n",
       "      <td>095</td>\n",
       "      <td>Marshall County</td>\n",
       "      <td>H1</td>\n",
       "      <td>Marshall County, AL</td>\n",
       "    </tr>\n",
       "    <tr>\n",
       "      <th>4</th>\n",
       "      <td>63</td>\n",
       "      <td>101690</td>\n",
       "      <td>ALABAMA</td>\n",
       "      <td>1</td>\n",
       "      <td>Guntersville City</td>\n",
       "      <td>135</td>\n",
       "      <td>85-89</td>\n",
       "      <td>1</td>\n",
       "      <td>PS</td>\n",
       "      <td>3</td>\n",
       "      <td>...</td>\n",
       "      <td>095</td>\n",
       "      <td>01</td>\n",
       "      <td>2015-02-24</td>\n",
       "      <td>2015-02-24</td>\n",
       "      <td>AL</td>\n",
       "      <td>01</td>\n",
       "      <td>095</td>\n",
       "      <td>Marshall County</td>\n",
       "      <td>H1</td>\n",
       "      <td>Marshall County, AL</td>\n",
       "    </tr>\n",
       "  </tbody>\n",
       "</table>\n",
       "<p>5 rows × 474 columns</p>\n",
       "</div>"
      ],
      "text/plain": [
       "   Unnamed: 0  leaid11    STNAM  FIPST            leanm11  ALL_COHORT_1112  \\\n",
       "0           0   100005  ALABAMA      1   Albertville City              268   \n",
       "1           1   100006  ALABAMA      1    Marshall County              424   \n",
       "2           5   100012  ALABAMA      1          Boaz City              155   \n",
       "3          10   100100  ALABAMA      1          Arab City              190   \n",
       "4          63   101690  ALABAMA      1  Guntersville City              135   \n",
       "\n",
       "  ALL_RATE_1112  MAM_COHORT_1112 MAM_RATE_1112  MAS_COHORT_1112  \\\n",
       "0            83                0           NaN                0   \n",
       "1            79                2            PS                1   \n",
       "2         90-94                0           NaN                3   \n",
       "3         90-94                2            PS                3   \n",
       "4         85-89                1            PS                3   \n",
       "\n",
       "          ...          countyfp  statefp  updated_at  created_at state  id1  \\\n",
       "0         ...               095       01  2015-02-24  2015-02-24    AL   01   \n",
       "1         ...               095       01  2015-02-24  2015-02-24    AL   01   \n",
       "2         ...               095       01  2015-02-24  2015-02-24    AL   01   \n",
       "3         ...               095       01  2015-02-24  2015-02-24    AL   01   \n",
       "4         ...               095       01  2015-02-24  2015-02-24    AL   01   \n",
       "\n",
       "   id2           county id3     county_state_map  \n",
       "0  095  Marshall County  H1  Marshall County, AL  \n",
       "1  095  Marshall County  H1  Marshall County, AL  \n",
       "2  095  Marshall County  H1  Marshall County, AL  \n",
       "3  095  Marshall County  H1  Marshall County, AL  \n",
       "4  095  Marshall County  H1  Marshall County, AL  \n",
       "\n",
       "[5 rows x 474 columns]"
      ]
     },
     "execution_count": 133,
     "metadata": {},
     "output_type": "execute_result"
    }
   ],
   "source": [
    "merged_data_geo."
   ]
  },
  {
   "cell_type": "code",
   "execution_count": 137,
   "metadata": {
    "collapsed": false
   },
   "outputs": [],
   "source": [
    "merged_data_geo[][0:9000].to_csv(\"full_geo_map_cleaned_data.csv\")"
   ]
  },
  {
   "cell_type": "code",
   "execution_count": 49,
   "metadata": {
    "collapsed": false
   },
   "outputs": [
    {
     "data": {
      "text/html": [
       "<div>\n",
       "<table border=\"1\" class=\"dataframe\">\n",
       "  <thead>\n",
       "    <tr style=\"text-align: right;\">\n",
       "      <th></th>\n",
       "      <th>leaid11</th>\n",
       "      <th>leanm11</th>\n",
       "      <th>STNAM</th>\n",
       "      <th>FIPST</th>\n",
       "      <th>County</th>\n",
       "      <th>IDCENSUS</th>\n",
       "      <th>state_state_abb</th>\n",
       "    </tr>\n",
       "  </thead>\n",
       "  <tbody>\n",
       "    <tr>\n",
       "      <th>0</th>\n",
       "      <td>100005</td>\n",
       "      <td>Albertville City</td>\n",
       "      <td>ALABAMA</td>\n",
       "      <td>1</td>\n",
       "      <td>Marshall County, AL</td>\n",
       "      <td>1.504840e+12</td>\n",
       "      <td>('AL', 'alabama')</td>\n",
       "    </tr>\n",
       "    <tr>\n",
       "      <th>1</th>\n",
       "      <td>100006</td>\n",
       "      <td>Marshall County</td>\n",
       "      <td>ALABAMA</td>\n",
       "      <td>1</td>\n",
       "      <td>Marshall County, AL</td>\n",
       "      <td>1.504800e+12</td>\n",
       "      <td>('AL', 'alabama')</td>\n",
       "    </tr>\n",
       "    <tr>\n",
       "      <th>2</th>\n",
       "      <td>100007</td>\n",
       "      <td>Hoover City</td>\n",
       "      <td>ALABAMA</td>\n",
       "      <td>1</td>\n",
       "      <td>Jefferson County, AL</td>\n",
       "      <td>1.503740e+12</td>\n",
       "      <td>('AL', 'alabama')</td>\n",
       "    </tr>\n",
       "    <tr>\n",
       "      <th>3</th>\n",
       "      <td>100008</td>\n",
       "      <td>Madison City</td>\n",
       "      <td>ALABAMA</td>\n",
       "      <td>1</td>\n",
       "      <td>Madison County, AL</td>\n",
       "      <td>1.504530e+12</td>\n",
       "      <td>('AL', 'alabama')</td>\n",
       "    </tr>\n",
       "    <tr>\n",
       "      <th>4</th>\n",
       "      <td>100011</td>\n",
       "      <td>Leeds City</td>\n",
       "      <td>ALABAMA</td>\n",
       "      <td>1</td>\n",
       "      <td>Jefferson County, AL</td>\n",
       "      <td>1.503710e+12</td>\n",
       "      <td>('AL', 'alabama')</td>\n",
       "    </tr>\n",
       "  </tbody>\n",
       "</table>\n",
       "</div>"
      ],
      "text/plain": [
       "   leaid11           leanm11    STNAM  FIPST                County  \\\n",
       "0   100005  Albertville City  ALABAMA      1   Marshall County, AL   \n",
       "1   100006   Marshall County  ALABAMA      1   Marshall County, AL   \n",
       "2   100007       Hoover City  ALABAMA      1  Jefferson County, AL   \n",
       "3   100008      Madison City  ALABAMA      1    Madison County, AL   \n",
       "4   100011        Leeds City  ALABAMA      1  Jefferson County, AL   \n",
       "\n",
       "       IDCENSUS    state_state_abb  \n",
       "0  1.504840e+12  ('AL', 'alabama')  \n",
       "1  1.504800e+12  ('AL', 'alabama')  \n",
       "2  1.503740e+12  ('AL', 'alabama')  \n",
       "3  1.504530e+12  ('AL', 'alabama')  \n",
       "4  1.503710e+12  ('AL', 'alabama')  "
      ]
     },
     "execution_count": 49,
     "metadata": {},
     "output_type": "execute_result"
    }
   ],
   "source": [
    "data[[\"leaid11\",\"leanm11\",\"STNAM\",u'FIPST',\"County\",u'IDCENSUS',u'state_state_abb']].head()"
   ]
  },
  {
   "cell_type": "code",
   "execution_count": 48,
   "metadata": {
    "collapsed": false
   },
   "outputs": [
    {
     "data": {
      "text/plain": [
       "0"
      ]
     },
     "execution_count": 48,
     "metadata": {},
     "output_type": "execute_result"
    }
   ],
   "source": [
    "data.County.fillna(method='bfill',inplace=True)\n",
    "sum(data.County.isnull())"
   ]
  },
  {
   "cell_type": "code",
   "execution_count": 63,
   "metadata": {
    "collapsed": false
   },
   "outputs": [
    {
     "ename": "AttributeError",
     "evalue": "'tuple' object has no attribute 'County'",
     "output_type": "error",
     "traceback": [
      "\u001b[1;31m---------------------------------------------------------------------------\u001b[0m",
      "\u001b[1;31mAttributeError\u001b[0m                            Traceback (most recent call last)",
      "\u001b[1;32m<ipython-input-63-e796c4f18a93>\u001b[0m in \u001b[0;36m<module>\u001b[1;34m()\u001b[0m\n\u001b[0;32m      1\u001b[0m \u001b[1;32mfor\u001b[0m \u001b[0mrow\u001b[0m \u001b[1;32min\u001b[0m \u001b[0mdata\u001b[0m\u001b[1;33m.\u001b[0m\u001b[0miterrows\u001b[0m\u001b[1;33m(\u001b[0m\u001b[1;33m)\u001b[0m\u001b[1;33m:\u001b[0m\u001b[1;33m\u001b[0m\u001b[0m\n\u001b[0;32m      2\u001b[0m     \u001b[0mx\u001b[0m \u001b[1;33m=\u001b[0m \u001b[0mrow\u001b[0m\u001b[1;33m\u001b[0m\u001b[0m\n\u001b[1;32m----> 3\u001b[1;33m     \u001b[0mcounty\u001b[0m \u001b[1;33m=\u001b[0m \u001b[0mrow\u001b[0m\u001b[1;33m.\u001b[0m\u001b[0mCounty\u001b[0m\u001b[1;33m.\u001b[0m\u001b[0msplit\u001b[0m\u001b[1;33m(\u001b[0m\u001b[1;34m','\u001b[0m\u001b[1;33m)\u001b[0m\u001b[1;33m[\u001b[0m\u001b[1;36m0\u001b[0m\u001b[1;33m]\u001b[0m\u001b[1;33m\u001b[0m\u001b[0m\n\u001b[0m\u001b[0;32m      4\u001b[0m     \u001b[0mstate\u001b[0m \u001b[1;33m=\u001b[0m \u001b[0mrow\u001b[0m\u001b[1;33m.\u001b[0m\u001b[0mstate_state_abb\u001b[0m\u001b[1;33m[\u001b[0m\u001b[1;36m0\u001b[0m\u001b[1;33m]\u001b[0m\u001b[1;33m\u001b[0m\u001b[0m\n\u001b[0;32m      5\u001b[0m     \u001b[0mmatch\u001b[0m \u001b[1;33m=\u001b[0m \u001b[0mcounty\u001b[0m\u001b[1;33m[\u001b[0m\u001b[0mcounty\u001b[0m\u001b[1;33m.\u001b[0m\u001b[0mcounty\u001b[0m \u001b[1;32min\u001b[0m \u001b[0mcounty\u001b[0m\u001b[1;33m]\u001b[0m\u001b[1;33m\u001b[0m\u001b[0m\n",
      "\u001b[1;31mAttributeError\u001b[0m: 'tuple' object has no attribute 'County'"
     ]
    }
   ],
   "source": [
    "for row in data.iterrows():\n",
    "    x = row\n",
    "    county = row.County.split(',')[0]\n",
    "    state = row.state_state_abb[0]\n",
    "    match = county[county.county in county]\n",
    "    print match"
   ]
  },
  {
   "cell_type": "code",
   "execution_count": 64,
   "metadata": {
    "collapsed": false
   },
   "outputs": [
    {
     "data": {
      "text/plain": [
       "(0, Unnamed: 0                                                0\n",
       " leaid11                                              100005\n",
       " STNAM                                               ALABAMA\n",
       " FIPST                                                     1\n",
       " leanm11                                    Albertville City\n",
       " ALL_COHORT_1112                                         268\n",
       " ALL_RATE_1112                                            83\n",
       " MAM_COHORT_1112                                           0\n",
       " MAM_RATE_1112                                           NaN\n",
       " MAS_COHORT_1112                                           0\n",
       " MAS_RATE_1112                                           NaN\n",
       " MBL_COHORT_1112                                           6\n",
       " MBL_RATE_1112                                          GE50\n",
       " MHI_COHORT_1112                                          49\n",
       " MHI_RATE_1112                                         60-69\n",
       " MTR_COHORT_1112                                           0\n",
       " MTR_RATE_1112                                           NaN\n",
       " MWH_COHORT_1112                                         213\n",
       " MWH_RATE_1112                                         85-89\n",
       " CWD_COHORT_1112                                          18\n",
       " CWD_RATE_1112                                         60-79\n",
       " ECD_COHORT_1112                                         107\n",
       " ECD_RATE_1112                                         70-74\n",
       " LEP_COHORT_1112                                           9\n",
       " LEP_RATE_1112                                          LT50\n",
       " clean_grad_rate                                          83\n",
       " weighted_URBANIZED_AREA_POP_CEN_2010                      0\n",
       " weighted_URBAN_CLUSTER_POP_CEN_2010                10634.06\n",
       " weighted_RURAL_POP_CEN_2010                        2437.733\n",
       " weighted_Tot_Population_CEN_2010                    13071.8\n",
       "                                                ...         \n",
       " lahunv10                                                  0\n",
       " lahunv10share                                             0\n",
       " lapop20                                                   0\n",
       " lapop20share                                              0\n",
       " lalowi20                                                  0\n",
       " lalowi20share                                             0\n",
       " lakids20                                                  0\n",
       " lakids20share                                             0\n",
       " laseniors20                                               0\n",
       " laseniors20share                                          0\n",
       " lahunv20                                                  0\n",
       " lahunv20share                                             0\n",
       " state_county_concat                                    1095\n",
       " Unnamed: 0.1                                             94\n",
       " Notes                                                   NaN\n",
       " County                                  Marshall County, AL\n",
       " County Code                                            1095\n",
       " Year                                                   2011\n",
       " Year Code                                              2011\n",
       " avg_of_daily_max                                    72.0655\n",
       " min_of_daily_max                                         27\n",
       " max_of_daily_max                                      100.2\n",
       " avg_of_daily_min                                    52.3809\n",
       " min_of_daily_min                                       13.9\n",
       " max_of_daily_min                                       80.9\n",
       " Avg Daily Max Heat Index (F)                        93.7504\n",
       " Min for Daily Max Heat Index (F)                    79.6000\n",
       " Max for Daily Max Heat Index (F)                   112.0000\n",
       " state_state_abb                           ('AL', 'alabama')\n",
       " avg_max_min_diff                                    19.6846\n",
       " Name: 0, dtype: object)"
      ]
     },
     "execution_count": 64,
     "metadata": {},
     "output_type": "execute_result"
    }
   ],
   "source": [
    "x."
   ]
  },
  {
   "cell_type": "code",
   "execution_count": null,
   "metadata": {
    "collapsed": true
   },
   "outputs": [],
   "source": []
  }
 ],
 "metadata": {
  "kernelspec": {
   "display_name": "Python 2",
   "language": "python",
   "name": "python2"
  },
  "language_info": {
   "codemirror_mode": {
    "name": "ipython",
    "version": 2
   },
   "file_extension": ".py",
   "mimetype": "text/x-python",
   "name": "python",
   "nbconvert_exporter": "python",
   "pygments_lexer": "ipython2",
   "version": "2.7.6"
  }
 },
 "nbformat": 4,
 "nbformat_minor": 0
}
